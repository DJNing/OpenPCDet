{
 "cells": [
  {
   "cell_type": "code",
   "execution_count": 69,
   "metadata": {},
   "outputs": [],
   "source": [
    "import torch\n",
    "from pytorch_memlab import LineProfiler\n",
    "import pandas as pd\n",
    "import logging\n",
    "import warnings\n",
    "warnings.filterwarnings('ignore')\n",
    "\n",
    "def outer():\n",
    "    linear = torch.nn.Linear(100, 100).cuda()\n",
    "    linear2 = torch.nn.Linear(100, 100).cuda()\n",
    "    linear3 = torch.nn.Linear(100, 100).cuda()\n",
    "\n",
    "\n",
    "with LineProfiler(outer) as prof:\n",
    "    outer()\n",
    "    \n",
    "    \n",
    "def inner():\n",
    "    linear = torch.nn.Linear(200, 200).cuda()\n",
    "    linear2 = torch.nn.Linear(200, 200).cuda()\n",
    "    linear3 = torch.nn.Linear(200, 200).cuda()\n",
    "\n",
    "\n",
    "with LineProfiler(inner) as prof2:\n",
    "    inner()\n",
    "\n",
    "\n",
    "data_frame_outer = pd.read_html(prof.display()._repr_html_())[0]\n",
    "data_frame_outer.columns = [i[0] for i in data_frame_outer.columns]\n",
    "\n",
    "data_frame_inner = pd.read_html(prof2.display()._repr_html_())[0]\n",
    "data_frame_inner.columns = [i[0] for i in data_frame_inner.columns]\n",
    "\n",
    "def rearrange_df(df1, df2, batch_size):\n",
    "    \n",
    "    new_df = pd.DataFrame()\n",
    "    \n",
    "    active1 = df1['active_bytes']\n",
    "    active2 = df2['active_bytes']\n",
    "    reserved1 = df1['reserved_bytes']\n",
    "    reserved2 = df2['reserved_bytes']\n",
    "    for i in range(len(active1)):\n",
    "        if active1[i][-1] == 'G':\n",
    "            active1[i] = float(active1[i][:-1]) * 1024\n",
    "            reserved1[i] = float(reserved1[i][:-1]) * 1024\n",
    "        if active1[i][-1] == 'K':\n",
    "            active1[i] = float(active1[i][:-1]) / 1024\n",
    "            if reserved1[i][-1] == 'K':\n",
    "                reserved1[i] = float(reserved1[i][:-1]) / 1024\n",
    "            else:\n",
    "                reserved1[i] = float(reserved1[i][:-1])\n",
    "        else:\n",
    "            active1[i] = float(active1[i][:-1])\n",
    "            reserved1[i] = float(reserved1[i][:-1])\n",
    "    \n",
    "    for i in range(len(active2)):\n",
    "        if active2[i][-1] == 'G':\n",
    "            active2[i] = float(active2[i][:-1]) * 1024\n",
    "            reserved2[i] = float(reserved2[i][:-1]) * 1024\n",
    "        if active2[i][-1] == 'K':\n",
    "            active2[i] = float(active2[i][:-1]) / 1024\n",
    "            if reserved2[i][-1] == 'K':\n",
    "                reserved2[i] = float(reserved2[i][:-1]) / 1024\n",
    "            else:\n",
    "                reserved2[i] = float(reserved2[i][:-1])\n",
    "        else:\n",
    "            active2[i] = float(active2[i][:-1])\n",
    "            reserved2[i] = float(reserved2[i][:-1])\n",
    "    \n",
    "    new_df['active_bytes'] = (active1 - active2) / (batch_size - 1)\n",
    "    new_df['reserved_bytes'] = (reserved1 - reserved2) / (batch_size - 1)\n",
    "    new_df = new_df.astype('float').round(3)\n",
    "    new_df = new_df.astype('str') + 'M'\n",
    "    return new_df"
   ]
  },
  {
   "cell_type": "code",
   "execution_count": 14,
   "metadata": {},
   "outputs": [
    {
     "data": {
      "text/html": [
       "<div>\n",
       "<style scoped>\n",
       "    .dataframe tbody tr th:only-of-type {\n",
       "        vertical-align: middle;\n",
       "    }\n",
       "\n",
       "    .dataframe tbody tr th {\n",
       "        vertical-align: top;\n",
       "    }\n",
       "\n",
       "    .dataframe thead th {\n",
       "        text-align: right;\n",
       "    }\n",
       "</style>\n",
       "<table border=\"1\" class=\"dataframe\">\n",
       "  <thead>\n",
       "    <tr style=\"text-align: right;\">\n",
       "      <th></th>\n",
       "      <th>active_bytes</th>\n",
       "      <th>reserved_bytes</th>\n",
       "      <th>line</th>\n",
       "      <th>code</th>\n",
       "    </tr>\n",
       "  </thead>\n",
       "  <tbody>\n",
       "    <tr>\n",
       "      <th>0</th>\n",
       "      <td>0.00B</td>\n",
       "      <td>0.00B</td>\n",
       "      <td>7</td>\n",
       "      <td>def outer():</td>\n",
       "    </tr>\n",
       "    <tr>\n",
       "      <th>1</th>\n",
       "      <td>40.00K</td>\n",
       "      <td>2.00M</td>\n",
       "      <td>8</td>\n",
       "      <td>linear = torch.nn.Linear(100, 100).cuda()</td>\n",
       "    </tr>\n",
       "    <tr>\n",
       "      <th>2</th>\n",
       "      <td>80.00K</td>\n",
       "      <td>2.00M</td>\n",
       "      <td>9</td>\n",
       "      <td>linear2 = torch.nn.Linear(100, 100).cuda()</td>\n",
       "    </tr>\n",
       "    <tr>\n",
       "      <th>3</th>\n",
       "      <td>120.00K</td>\n",
       "      <td>2.00M</td>\n",
       "      <td>10</td>\n",
       "      <td>linear3 = torch.nn.Linear(100, 100).cuda()</td>\n",
       "    </tr>\n",
       "  </tbody>\n",
       "</table>\n",
       "</div>"
      ],
      "text/plain": [
       "  active_bytes reserved_bytes  line  \\\n",
       "0        0.00B          0.00B     7   \n",
       "1       40.00K          2.00M     8   \n",
       "2       80.00K          2.00M     9   \n",
       "3      120.00K          2.00M    10   \n",
       "\n",
       "                                         code  \n",
       "0                                def outer():  \n",
       "1   linear = torch.nn.Linear(100, 100).cuda()  \n",
       "2  linear2 = torch.nn.Linear(100, 100).cuda()  \n",
       "3  linear3 = torch.nn.Linear(100, 100).cuda()  "
      ]
     },
     "execution_count": 14,
     "metadata": {},
     "output_type": "execute_result"
    }
   ],
   "source": [
    "data_frame_outer"
   ]
  },
  {
   "cell_type": "code",
   "execution_count": 15,
   "metadata": {},
   "outputs": [
    {
     "data": {
      "text/html": [
       "<div>\n",
       "<style scoped>\n",
       "    .dataframe tbody tr th:only-of-type {\n",
       "        vertical-align: middle;\n",
       "    }\n",
       "\n",
       "    .dataframe tbody tr th {\n",
       "        vertical-align: top;\n",
       "    }\n",
       "\n",
       "    .dataframe thead th {\n",
       "        text-align: right;\n",
       "    }\n",
       "</style>\n",
       "<table border=\"1\" class=\"dataframe\">\n",
       "  <thead>\n",
       "    <tr style=\"text-align: right;\">\n",
       "      <th></th>\n",
       "      <th>active_bytes</th>\n",
       "      <th>reserved_bytes</th>\n",
       "      <th>line</th>\n",
       "      <th>code</th>\n",
       "    </tr>\n",
       "  </thead>\n",
       "  <tbody>\n",
       "    <tr>\n",
       "      <th>0</th>\n",
       "      <td>0.00B</td>\n",
       "      <td>0.00B</td>\n",
       "      <td>17</td>\n",
       "      <td>def inner():</td>\n",
       "    </tr>\n",
       "    <tr>\n",
       "      <th>1</th>\n",
       "      <td>157.50K</td>\n",
       "      <td>2.00M</td>\n",
       "      <td>18</td>\n",
       "      <td>linear = torch.nn.Linear(200, 200).cuda()</td>\n",
       "    </tr>\n",
       "    <tr>\n",
       "      <th>2</th>\n",
       "      <td>315.00K</td>\n",
       "      <td>2.00M</td>\n",
       "      <td>19</td>\n",
       "      <td>linear2 = torch.nn.Linear(200, 200).cuda()</td>\n",
       "    </tr>\n",
       "    <tr>\n",
       "      <th>3</th>\n",
       "      <td>472.50K</td>\n",
       "      <td>2.00M</td>\n",
       "      <td>20</td>\n",
       "      <td>linear3 = torch.nn.Linear(200, 200).cuda()</td>\n",
       "    </tr>\n",
       "  </tbody>\n",
       "</table>\n",
       "</div>"
      ],
      "text/plain": [
       "  active_bytes reserved_bytes  line  \\\n",
       "0        0.00B          0.00B    17   \n",
       "1      157.50K          2.00M    18   \n",
       "2      315.00K          2.00M    19   \n",
       "3      472.50K          2.00M    20   \n",
       "\n",
       "                                         code  \n",
       "0                                def inner():  \n",
       "1   linear = torch.nn.Linear(200, 200).cuda()  \n",
       "2  linear2 = torch.nn.Linear(200, 200).cuda()  \n",
       "3  linear3 = torch.nn.Linear(200, 200).cuda()  "
      ]
     },
     "execution_count": 15,
     "metadata": {},
     "output_type": "execute_result"
    }
   ],
   "source": [
    "data_frame_inner"
   ]
  },
  {
   "cell_type": "code",
   "execution_count": 70,
   "metadata": {},
   "outputs": [
    {
     "data": {
      "text/html": [
       "<div>\n",
       "<style scoped>\n",
       "    .dataframe tbody tr th:only-of-type {\n",
       "        vertical-align: middle;\n",
       "    }\n",
       "\n",
       "    .dataframe tbody tr th {\n",
       "        vertical-align: top;\n",
       "    }\n",
       "\n",
       "    .dataframe thead th {\n",
       "        text-align: right;\n",
       "    }\n",
       "</style>\n",
       "<table border=\"1\" class=\"dataframe\">\n",
       "  <thead>\n",
       "    <tr style=\"text-align: right;\">\n",
       "      <th></th>\n",
       "      <th>active_bytes</th>\n",
       "      <th>reserved_bytes</th>\n",
       "    </tr>\n",
       "  </thead>\n",
       "  <tbody>\n",
       "    <tr>\n",
       "      <th>0</th>\n",
       "      <td>0.0M</td>\n",
       "      <td>0.0M</td>\n",
       "    </tr>\n",
       "    <tr>\n",
       "      <th>1</th>\n",
       "      <td>0.115M</td>\n",
       "      <td>0.0M</td>\n",
       "    </tr>\n",
       "    <tr>\n",
       "      <th>2</th>\n",
       "      <td>0.229M</td>\n",
       "      <td>0.0M</td>\n",
       "    </tr>\n",
       "    <tr>\n",
       "      <th>3</th>\n",
       "      <td>0.344M</td>\n",
       "      <td>0.0M</td>\n",
       "    </tr>\n",
       "  </tbody>\n",
       "</table>\n",
       "</div>"
      ],
      "text/plain": [
       "  active_bytes reserved_bytes\n",
       "0         0.0M           0.0M\n",
       "1       0.115M           0.0M\n",
       "2       0.229M           0.0M\n",
       "3       0.344M           0.0M"
      ]
     },
     "execution_count": 70,
     "metadata": {},
     "output_type": "execute_result"
    }
   ],
   "source": [
    "s = rearrange_df(data_frame_inner, data_frame_outer, 2)\n",
    "s"
   ]
  },
  {
   "cell_type": "code",
   "execution_count": 18,
   "metadata": {},
   "outputs": [
    {
     "data": {
      "text/plain": [
       "0    1.0\n",
       "1    1.0\n",
       "dtype: float64"
      ]
     },
     "execution_count": 18,
     "metadata": {},
     "output_type": "execute_result"
    }
   ],
   "source": [
    "a = pd.Series([1, 2])\n",
    "b = pd.Series([3, 4])\n",
    "(b - a) / 2"
   ]
  },
  {
   "cell_type": "code",
   "execution_count": 11,
   "metadata": {},
   "outputs": [
    {
     "data": {
      "text/plain": [
       "[1]"
      ]
     },
     "execution_count": 11,
     "metadata": {},
     "output_type": "execute_result"
    }
   ],
   "source": []
  }
 ],
 "metadata": {
  "kernelspec": {
   "display_name": "pcd",
   "language": "python",
   "name": "python3"
  },
  "language_info": {
   "codemirror_mode": {
    "name": "ipython",
    "version": 3
   },
   "file_extension": ".py",
   "mimetype": "text/x-python",
   "name": "python",
   "nbconvert_exporter": "python",
   "pygments_lexer": "ipython3",
   "version": "3.7.15"
  },
  "orig_nbformat": 4,
  "vscode": {
   "interpreter": {
    "hash": "a272236ba80e9867e5d49a1e2073855594dfbe1e8ace94f4d42516ee70cf12a5"
   }
  }
 },
 "nbformat": 4,
 "nbformat_minor": 2
}
