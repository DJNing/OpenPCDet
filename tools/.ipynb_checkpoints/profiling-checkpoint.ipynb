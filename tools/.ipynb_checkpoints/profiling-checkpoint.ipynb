{
 "cells": [
  {
   "cell_type": "markdown",
   "metadata": {},
   "source": [
    "# This jupyter file is used for LiDAR detection efficiency profiling\n",
    "\n",
    "## 1. Import required module from OpenPCDet "
   ]
  },
  {
   "cell_type": "code",
   "execution_count": 1,
   "metadata": {},
   "outputs": [],
   "source": [
    "import _init_path\n",
    "import argparse\n",
    "import datetime\n",
    "import glob\n",
    "import os\n",
    "from pathlib import Path\n",
    "from test import repeat_eval_ckpt\n",
    "\n",
    "import torch\n",
    "import torch.nn as nn\n",
    "from tensorboardX import SummaryWriter\n",
    "\n",
    "from pcdet.config import cfg, cfg_from_list, cfg_from_yaml_file, log_config_to_file\n",
    "from pcdet.datasets import build_dataloader\n",
    "from pcdet.models import build_network, model_fn_decorator\n",
    "from pcdet.utils import common_utils"
   ]
  },
  {
   "cell_type": "markdown",
   "metadata": {},
   "source": [
    "## 2. Load the waymo data for profiling\n",
    "\n",
    "**You can also re-use the dataloader defined in OpenPCDet (Recommanded)**\n",
    "\n",
    "If you choose this option, please skip this part.\n",
    "\n",
    "**Another option**\n",
    "\n",
    "You can construct your own code for loading point cloud from waymo dataset. Check the code in ```../pcdet/datasets/waymo/waymo_dataset.py``` as reference. For the initial stage, loading one LiDAR scan would be enough. While later, we may need to load more to average the measurement for better accuracy.\n",
    "\n",
    "The waymo data is located in ```../data/waymo```\n",
    "\n"
   ]
  },
  {
   "cell_type": "code",
   "execution_count": null,
   "metadata": {},
   "outputs": [],
   "source": [
    "# construct for you data loading function here\n",
    "\n",
    "dataset_base_path = '/home/jnd/code/OpenPCDet/data/waymo'\n",
    "\n",
    "def load_waymo_pcd():\n",
    "    pass\n"
   ]
  },
  {
   "cell_type": "markdown",
   "metadata": {},
   "source": [
    "## 3. Build the model based on cfg files\n",
    "\n",
    "In this section, build the model following the code in ```./train.py```. The model config file in located in ```./cfgs/waymo_models```. The required configs are: pointpillar, pvrcnn, second, centerpoint. \n",
    "\n",
    "For profiling the efficiency of operations, you can just take the specific layer of the model for testing."
   ]
  },
  {
   "cell_type": "code",
   "execution_count": 9,
   "metadata": {},
   "outputs": [
    {
     "name": "stderr",
     "output_type": "stream",
     "text": [
      "2022-12-14 11:38:51,849   INFO  Database filter by min points Vehicle: 1194364 => 1019919\n",
      "2022-12-14 11:38:51,849   INFO  Database filter by min points Vehicle: 1194364 => 1019919\n",
      "2022-12-14 11:38:51,849   INFO  Database filter by min points Vehicle: 1194364 => 1019919\n",
      "2022-12-14 11:38:52,052   INFO  Database filter by min points Pedestrian: 1114091 => 943716\n",
      "2022-12-14 11:38:52,052   INFO  Database filter by min points Pedestrian: 1114091 => 943716\n",
      "2022-12-14 11:38:52,052   INFO  Database filter by min points Pedestrian: 1114091 => 943716\n",
      "2022-12-14 11:38:52,071   INFO  Database filter by min points Cyclist: 53344 => 47529\n",
      "2022-12-14 11:38:52,071   INFO  Database filter by min points Cyclist: 53344 => 47529\n",
      "2022-12-14 11:38:52,071   INFO  Database filter by min points Cyclist: 53344 => 47529\n",
      "2022-12-14 11:38:52,491   INFO  Database filter by difficulty Vehicle: 1019919 => 1019919\n",
      "2022-12-14 11:38:52,491   INFO  Database filter by difficulty Vehicle: 1019919 => 1019919\n",
      "2022-12-14 11:38:52,491   INFO  Database filter by difficulty Vehicle: 1019919 => 1019919\n",
      "2022-12-14 11:38:52,815   INFO  Database filter by difficulty Pedestrian: 943716 => 943716\n",
      "2022-12-14 11:38:52,815   INFO  Database filter by difficulty Pedestrian: 943716 => 943716\n",
      "2022-12-14 11:38:52,815   INFO  Database filter by difficulty Pedestrian: 943716 => 943716\n",
      "2022-12-14 11:38:52,830   INFO  Database filter by difficulty Cyclist: 47529 => 47529\n",
      "2022-12-14 11:38:52,830   INFO  Database filter by difficulty Cyclist: 47529 => 47529\n",
      "2022-12-14 11:38:52,830   INFO  Database filter by difficulty Cyclist: 47529 => 47529\n",
      "2022-12-14 11:38:53,565   INFO  Loading Waymo dataset\n",
      "2022-12-14 11:38:53,565   INFO  Loading Waymo dataset\n",
      "2022-12-14 11:38:53,565   INFO  Loading Waymo dataset\n",
      "2022-12-14 11:39:00,320   INFO  Total skipped info 0\n",
      "2022-12-14 11:39:00,320   INFO  Total skipped info 0\n",
      "2022-12-14 11:39:00,320   INFO  Total skipped info 0\n",
      "2022-12-14 11:39:00,321   INFO  Total samples for Waymo dataset: 158081\n",
      "2022-12-14 11:39:00,321   INFO  Total samples for Waymo dataset: 158081\n",
      "2022-12-14 11:39:00,321   INFO  Total samples for Waymo dataset: 158081\n",
      "2022-12-14 11:39:00,328   INFO  Total sampled samples for Waymo dataset: 31617\n",
      "2022-12-14 11:39:00,328   INFO  Total sampled samples for Waymo dataset: 31617\n",
      "2022-12-14 11:39:00,328   INFO  Total sampled samples for Waymo dataset: 31617\n",
      "/home/jnd/.conda/envs/pcd/lib/python3.7/site-packages/torch/functional.py:504: UserWarning: torch.meshgrid: in an upcoming release, it will be required to pass the indexing argument. (Triggered internally at /opt/conda/conda-bld/pytorch_1666642814471/work/aten/src/ATen/native/TensorShape.cpp:3190.)\n",
      "  return _VF.meshgrid(tensors, **kwargs)  # type: ignore[attr-defined]\n"
     ]
    }
   ],
   "source": [
    "cfg_file = './cfgs/waymo_models/second.yaml'\n",
    "\n",
    "output_dir = Path('./profiling_log')\n",
    "output_dir.mkdir(exist_ok=True)\n",
    "log_file = output_dir / ('log_train_%s.txt' % datetime.datetime.now().strftime('%Y%m%d-%H%M%S'))\n",
    "logger = common_utils.create_logger(log_file, rank=0)\n",
    "cfg_from_yaml_file(cfg_file, cfg)\n",
    "\n",
    "# It would take some time to initialize the dataset.\n",
    "\n",
    "train_set, train_loader, train_sampler = build_dataloader(\n",
    "        dataset_cfg=cfg.DATA_CONFIG,\n",
    "        class_names=cfg.CLASS_NAMES,\n",
    "        batch_size=1,\n",
    "        dist=False, workers=1,\n",
    "        logger=logger,\n",
    "        training=True,\n",
    "        merge_all_iters_to_one_epoch=True,\n",
    "        total_epochs=1,\n",
    "        seed=666\n",
    "    )\n"
   ]
  },
  {
   "cell_type": "code",
   "execution_count": 11,
   "metadata": {},
   "outputs": [],
   "source": [
    "# now build your model, you can reload the cfg and build another new model with new variable name. \n",
    "# Here is just an example\n",
    "model = build_network(model_cfg=cfg.MODEL, num_class=3, dataset=train_set)\n",
    "# print(model)"
   ]
  },
  {
   "cell_type": "markdown",
   "metadata": {},
   "source": [
    "## 4. Now load the data and feed to the network for profiling\n",
    "\n",
    "There're two options for you to perform this task:\n",
    "\n",
    "1. Use your own data loading function and feed the data to the network\n",
    "2. Re-use the dataset to load the data. Check function **eval_one_epoch** in file ```./eval_utils/eval_utils.py``` for details.\n"
   ]
  },
  {
   "cell_type": "code",
   "execution_count": null,
   "metadata": {},
   "outputs": [],
   "source": [
    "# Write your code here\n"
   ]
  },
  {
   "cell_type": "markdown",
   "metadata": {},
   "source": [
    "## 5. Record execution time and memory usage\n",
    "\n",
    "For execution time, you could simply use the ```time``` library to record it. \n",
    "\n",
    "As for memory usage, it's a bit more tricky. But we have two interesting libraries for you to explore:\n",
    "\n",
    "1. [pytorch_memlab](https://github.com/stonesjtu/pytorch_memlab)\n",
    "2. [pytorch_profiler](https://pytorch.org/tutorials/recipes/recipes/profiler_recipe.html)\n",
    "\n",
    "**Please read the document and understand how they work before use it.**"
   ]
  },
  {
   "cell_type": "code",
   "execution_count": null,
   "metadata": {},
   "outputs": [],
   "source": [
    "# wirte your code here\n"
   ]
  },
  {
   "cell_type": "markdown",
   "metadata": {},
   "source": [
    "## 6. More experiments for specific operations"
   ]
  },
  {
   "cell_type": "code",
   "execution_count": null,
   "metadata": {},
   "outputs": [],
   "source": []
  }
 ],
 "metadata": {
  "kernelspec": {
   "display_name": "Python 3 (ipykernel)",
   "language": "python",
   "name": "python3"
  },
  "language_info": {
   "codemirror_mode": {
    "name": "ipython",
    "version": 3
   },
   "file_extension": ".py",
   "mimetype": "text/x-python",
   "name": "python",
   "nbconvert_exporter": "python",
   "pygments_lexer": "ipython3",
   "version": "3.7.15 (default, Nov 24 2022, 21:12:53) \n[GCC 11.2.0]"
  },
  "vscode": {
   "interpreter": {
    "hash": "a272236ba80e9867e5d49a1e2073855594dfbe1e8ace94f4d42516ee70cf12a5"
   }
  }
 },
 "nbformat": 4,
 "nbformat_minor": 2
}
