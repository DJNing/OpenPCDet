{
 "cells": [
  {
   "cell_type": "markdown",
   "metadata": {},
   "source": [
    "# This jupyter file is used for LiDAR detection efficiency profiling\n",
    "\n",
    "## 1. Import required module from OpenPCDet "
   ]
  },
  {
   "cell_type": "code",
   "execution_count": 1,
   "metadata": {},
   "outputs": [],
   "source": [
    "os.environ['CUDA_VISIBLE_DEVICES'] = \"7\"\n",
    "import argparse\n",
    "import datetime\n",
    "import glob\n",
    "import os\n",
    "from pathlib import Path\n",
    "# from test import repeat_eval_ckpt\n",
    "\n",
    "import spconv.pytorch as spconv\n",
    "import torch\n",
    "import torch.nn as nn\n",
    "from tensorboardX import SummaryWriter\n",
    "from pcdet.config import cfg, cfg_from_list, cfg_from_yaml_file, log_config_to_file\n",
    "from pcdet.datasets import build_dataloader\n",
    "from pcdet.models import build_network, model_fn_decorator\n",
    "from pcdet.utils import common_utils\n",
    "import numpy as np\n",
    "import warnings\n",
    "\n",
    "from pcdet.models import load_data_to_gpu\n",
    "import time\n",
    "from pytorch_memlab import LineProfiler\n",
    "import logging\n",
    "import pandas as pd\n",
    "\n",
    "warnings.filterwarnings(\"ignore\")\n"
   ]
  },
  {
   "cell_type": "markdown",
   "metadata": {},
   "source": [
    "## 2. Load the waymo data for profiling\n",
    "\n",
    "**You can also re-use the dataloader defined in OpenPCDet (Recommanded)**\n",
    "\n",
    "If you choose this option, please skip this part.\n",
    "\n",
    "**Another option**\n",
    "\n",
    "You can construct your own code for loading point cloud from waymo dataset. Check the code in ```../pcdet/datasets/waymo/waymo_dataset.py``` as reference. For the initial stage, loading one LiDAR scan would be enough. While later, we may need to load more to average the measurement for better accuracy.\n",
    "\n",
    "The waymo data is located in ```../data/waymo```\n",
    "\n"
   ]
  },
  {
   "cell_type": "code",
   "execution_count": 2,
   "metadata": {},
   "outputs": [],
   "source": [
    "# construct for you data loading function here\n",
    "\n",
    "dataset_base_path = '/home/jnd/code/OpenPCDet/data/waymo'\n",
    "\n",
    "def load_waymo_pcd():\n",
    "    pass\n"
   ]
  },
  {
   "cell_type": "markdown",
   "metadata": {},
   "source": [
    "## 3. Build the model based on cfg files\n",
    "\n",
    "In this section, build the model following the code in ```./train.py```. The model config file in located in ```./cfgs/waymo_models```. The required configs are: pointpillar, pvrcnn, second, centerpoint. \n",
    "\n",
    "For profiling the efficiency of operations, you can just take the specific layer of the model for testing."
   ]
  },
  {
   "cell_type": "code",
   "execution_count": 3,
   "metadata": {},
   "outputs": [],
   "source": [
    "def load_and_build_data(model_name, batch_size):\n",
    "    cfg_file = './cfgs/waymo_models/{}.yaml'.format(model_name)\n",
    "\n",
    "    output_dir = Path('./profiling_log')\n",
    "    output_dir.mkdir(exist_ok=True)\n",
    "    log_file = output_dir / ('log_train_%s.txt' % datetime.datetime.now().strftime('%Y%m%d-%H%M%S'))\n",
    "    logger = common_utils.create_logger(log_file, rank=0)\n",
    "    cfg_from_yaml_file(cfg_file, cfg)\n",
    "\n",
    "    # It would take some time to initialize the dataset.\n",
    "\n",
    "    test_set, test_loader, test_sampler = build_dataloader(\n",
    "            dataset_cfg=cfg.DATA_CONFIG,\n",
    "            class_names=cfg.CLASS_NAMES,\n",
    "            batch_size=batch_size,\n",
    "            dist=False, workers=1,\n",
    "            logger=logger,\n",
    "            training=False,  # I would recommand you to use a test loader\n",
    "            merge_all_iters_to_one_epoch=True,\n",
    "            total_epochs=1,\n",
    "            seed=666\n",
    "        )\n",
    "\n",
    "    model = build_network(model_cfg=cfg.MODEL, num_class=3, dataset=test_set)\n",
    "    return model, test_loader\n"
   ]
  },
  {
   "cell_type": "markdown",
   "metadata": {},
   "source": [
    "## 4. Now load the data and feed to the network for profiling\n",
    "\n",
    "There're two options for you to perform this task:\n",
    "\n",
    "1. Use your own data loading function and feed the data to the network\n",
    "2. Re-use the dataset to load the data. Check function **eval_one_epoch** in file ```./eval_utils/eval_utils.py``` for details.\n"
   ]
  },
  {
   "cell_type": "code",
   "execution_count": 4,
   "metadata": {},
   "outputs": [],
   "source": [
    "# Write your code here\n",
    "\n",
    "def inference_simulation(model_name, batch_size):\n",
    "    \n",
    "    model, test_loader = load_and_build_data(model_name, batch_size)\n",
    "    \n",
    "    model.cuda()\n",
    "    model.eval()\n",
    "\n",
    "    one_data = None\n",
    "    return_data = None\n",
    "\n",
    "    for i, batch_dict in enumerate(test_loader):\n",
    "        load_data_to_gpu(batch_dict)\n",
    "        one_data = batch_dict.copy()\n",
    "        return_data = batch_dict.copy()\n",
    "        with torch.no_grad():\n",
    "            with LineProfiler(model.forward) as overall:\n",
    "                start_time = time.time()\n",
    "                pred_dicts, ret_dict = model(one_data)\n",
    "                total_time = time.time() - start_time\n",
    "        break\n",
    "    return model, return_data"
   ]
  },
  {
   "cell_type": "markdown",
   "metadata": {},
   "source": [
    "## 6. More experiments for specific operations"
   ]
  },
  {
   "cell_type": "code",
   "execution_count": 5,
   "metadata": {},
   "outputs": [],
   "source": [
    "def load_and_build_data(model_name, batch_size):\n",
    "    cfg_file = '/home/jnd/code/OpenPCDet/tools/cfgs/waymo_models/{}.yaml'.format(model_name)\n",
    "\n",
    "    output_dir = Path('./profiling_log')\n",
    "    output_dir.mkdir(exist_ok=True)\n",
    "    log_file = output_dir / ('log_train_%s.txt' % datetime.datetime.now().strftime('%Y%m%d-%H%M%S'))\n",
    "    logger = common_utils.create_logger(log_file, rank=0)\n",
    "    cfg_from_yaml_file(cfg_file, cfg)\n",
    "\n",
    "    # It would take some time to initialize the dataset.\n",
    "\n",
    "    test_set, test_loader, test_sampler = build_dataloader(\n",
    "            dataset_cfg=cfg.DATA_CONFIG,\n",
    "            class_names=cfg.CLASS_NAMES,\n",
    "            batch_size=batch_size,\n",
    "            dist=False, workers=1,\n",
    "            logger=logger,\n",
    "            training=False,  # I would recommand you to use a test loader\n",
    "            merge_all_iters_to_one_epoch=True,\n",
    "            total_epochs=1,\n",
    "            seed=666\n",
    "        )\n",
    "\n",
    "    model = build_network(model_cfg=cfg.MODEL, num_class=3, dataset=test_set)\n",
    "    return model, test_loader"
   ]
  },
  {
   "cell_type": "code",
   "execution_count": 6,
   "metadata": {},
   "outputs": [
    {
     "name": "stderr",
     "output_type": "stream",
     "text": [
      "2023-01-06 14:59:16,660   INFO  Loading Waymo dataset\n",
      "2023-01-06 14:59:18,118   INFO  Total skipped info 0\n",
      "2023-01-06 14:59:18,118   INFO  Total samples for Waymo dataset: 39987\n"
     ]
    }
   ],
   "source": [
    "model, data_loader = load_and_build_data('centerpoint', 1)"
   ]
  },
  {
   "cell_type": "code",
   "execution_count": 7,
   "metadata": {},
   "outputs": [
    {
     "name": "stdout",
     "output_type": "stream",
     "text": [
      "(126501, 5)\n",
      "polar shape is:  (126501, 5)\n",
      "(128191, 5)\n",
      "polar shape is:  (128191, 5)\n"
     ]
    }
   ],
   "source": [
    "test_data = next(iter(data_loader))"
   ]
  },
  {
   "cell_type": "code",
   "execution_count": 8,
   "metadata": {},
   "outputs": [],
   "source": [
    "model.cuda()\n",
    "model.eval()\n",
    "load_data_to_gpu(test_data)\n",
    "result = model(test_data)"
   ]
  },
  {
   "cell_type": "code",
   "execution_count": 9,
   "metadata": {},
   "outputs": [
    {
     "data": {
      "text/plain": [
       "dict_keys(['sample_idx', 'points', 'frame_id', 'gt_boxes', 'use_lead_xyz', 'polar', 'voxels', 'voxel_coords', 'voxel_num_points', 'metadata', 'batch_size', 'voxel_features', 'encoded_spconv_tensor', 'encoded_spconv_tensor_stride', 'multi_scale_3d_features', 'multi_scale_3d_strides', 'spatial_features', 'spatial_features_stride', 'spatial_features_2d', 'final_box_dicts'])"
      ]
     },
     "execution_count": 9,
     "metadata": {},
     "output_type": "execute_result"
    }
   ],
   "source": [
    "test_data.keys()"
   ]
  },
  {
   "cell_type": "code",
   "execution_count": 10,
   "metadata": {},
   "outputs": [],
   "source": [
    "pts = test_data['points']"
   ]
  },
  {
   "cell_type": "code",
   "execution_count": 11,
   "metadata": {},
   "outputs": [
    {
     "data": {
      "text/plain": [
       "torch.Size([126501, 6])"
      ]
     },
     "execution_count": 11,
     "metadata": {},
     "output_type": "execute_result"
    }
   ],
   "source": [
    "pts.shape"
   ]
  },
  {
   "cell_type": "code",
   "execution_count": 12,
   "metadata": {},
   "outputs": [
    {
     "data": {
      "text/plain": [
       "tensor([0., 0., 0.,  ..., 0., 0., 0.], device='cuda:0')"
      ]
     },
     "execution_count": 12,
     "metadata": {},
     "output_type": "execute_result"
    }
   ],
   "source": [
    "pts[:,0]"
   ]
  },
  {
   "cell_type": "code",
   "execution_count": 13,
   "metadata": {},
   "outputs": [],
   "source": [
    "polar = test_data['polar']"
   ]
  },
  {
   "cell_type": "code",
   "execution_count": 14,
   "metadata": {},
   "outputs": [
    {
     "data": {
      "text/plain": [
       "torch.Size([1, 126501, 5])"
      ]
     },
     "execution_count": 14,
     "metadata": {},
     "output_type": "execute_result"
    }
   ],
   "source": [
    "polar.shape"
   ]
  },
  {
   "cell_type": "code",
   "execution_count": 15,
   "metadata": {},
   "outputs": [
    {
     "data": {
      "text/plain": [
       "torch.Size([126501, 6])"
      ]
     },
     "execution_count": 15,
     "metadata": {},
     "output_type": "execute_result"
    }
   ],
   "source": [
    "pts.shape"
   ]
  },
  {
   "cell_type": "code",
   "execution_count": 16,
   "metadata": {},
   "outputs": [
    {
     "data": {
      "text/plain": [
       "torch.Size([1, 126501, 5])"
      ]
     },
     "execution_count": 16,
     "metadata": {},
     "output_type": "execute_result"
    }
   ],
   "source": [
    "polar.shape"
   ]
  },
  {
   "cell_type": "code",
   "execution_count": null,
   "metadata": {},
   "outputs": [],
   "source": []
  }
 ],
 "metadata": {
  "kernelspec": {
   "display_name": "Python 3 (ipykernel)",
   "language": "python",
   "name": "python3"
  },
  "language_info": {
   "codemirror_mode": {
    "name": "ipython",
    "version": 3
   },
   "file_extension": ".py",
   "mimetype": "text/x-python",
   "name": "python",
   "nbconvert_exporter": "python",
   "pygments_lexer": "ipython3",
   "version": "3.7.15"
  },
  "vscode": {
   "interpreter": {
    "hash": "a272236ba80e9867e5d49a1e2073855594dfbe1e8ace94f4d42516ee70cf12a5"
   }
  }
 },
 "nbformat": 4,
 "nbformat_minor": 2
}
